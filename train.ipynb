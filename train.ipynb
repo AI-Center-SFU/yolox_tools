{
 "cells": [
  {
   "cell_type": "code",
   "execution_count": null,
   "metadata": {
    "vscode": {
     "languageId": "plaintext"
    }
   },
   "outputs": [],
   "source": [
    "import os\n",
    "\n",
    "def process_dataset_and_create_symlink(dataset_path):\n",
    "    \"\"\"\n",
    "    Проверяет, что указанный путь существует, ищет в нём структуру COCO\n",
    "    (папки annotations, train2017, val2017), и создаёт символическую ссылку\n",
    "    в папке ./YOLOX/datasets/COCO, указывающую на найденную структуру.\n",
    "\n",
    "    :param dataset_path: Путь к директории, в которой ожидается COCO-структура\n",
    "    \"\"\"\n",
    "    if not os.path.exists(dataset_path):\n",
    "        raise ValueError(f\"Dataset path does not exist: {dataset_path}\")\n",
    "\n",
    "    # Автоматически ищем структуру COCO внутри указанной директории\n",
    "    def find_coco_structure(base_dir):\n",
    "        for root, dirs, files in os.walk(base_dir):\n",
    "            if \"annotations\" in dirs and \"train2017\" in dirs and \"val2017\" in dirs:\n",
    "                return root\n",
    "        return None\n",
    "\n",
    "    coco_root = find_coco_structure(dataset_path)\n",
    "    if not coco_root:\n",
    "        raise ValueError(\n",
    "            \"Provided directory does not contain the expected COCO structure \"\n",
    "            \"(annotations/, train2017/, val2017/).\"\n",
    "        )\n",
    "\n",
    "    print(f\"Found COCO structure at: {coco_root}\")\n",
    "\n",
    "    # Путь к символической ссылке\n",
    "    coco_symlink = \"./YOLOX/datasets/COCO\"\n",
    "    coco_dir = os.path.dirname(coco_symlink)\n",
    "\n",
    "    # Создаем путь к папке, если он не существует\n",
    "    if not os.path.exists(coco_dir):\n",
    "        os.makedirs(coco_dir)\n",
    "        print(f\"Created directory: {coco_dir}\")\n",
    "\n",
    "    # Если символическая ссылка или папка с таким именем уже существует — удаляем\n",
    "    if os.path.islink(coco_symlink):\n",
    "        os.unlink(coco_symlink)\n",
    "        print(f\"Removed old symbolic link: {coco_symlink}\")\n",
    "    elif os.path.exists(coco_symlink):\n",
    "        os.rmdir(coco_symlink)\n",
    "        print(f\"Removed old directory: {coco_symlink}\")\n",
    "\n",
    "    # Создаем новую символическую ссылку на COCO-структуру\n",
    "    os.symlink(coco_root, coco_symlink)\n",
    "    print(f\"Created symbolic link: {coco_symlink} -> {coco_root}\")"
   ]
  },
  {
   "cell_type": "code",
   "execution_count": null,
   "metadata": {
    "vscode": {
     "languageId": "plaintext"
    }
   },
   "outputs": [],
   "source": [
    "# Пример использования\n",
    "coco_directory_path = \"/workspace/shared/your-dataset-path\"  # Замените на путь к вашей директории\n",
    "process_dataset_and_create_symlink(coco_directory_path)"
   ]
  },
  {
   "cell_type": "markdown",
   "metadata": {},
   "source": [
    "### Parameters for YOLOX Training Command\n",
    "\n",
    "- **`-n <model>`**: Model name, e.g., `yolox-nano`, `yolox-s`, etc. YOLOX supports various models:\n",
    "  - `yolox-nano`\n",
    "  - `yolox-tiny`\n",
    "  - `yolox-s`\n",
    "  - `yolox-m`\n",
    "  - `yolox-l`\n",
    "  - `yolox-x`\n",
    "- **`-d`**: Number of GPUs to use (e.g., `1` for a single GPU).\n",
    "- **`-b`**: Batch size. Adjust based on available GPU memory.\n",
    "- **`--fp16`**: Enables mixed-precision training.\n",
    "- **`--cache ram`**: Caches the dataset in RAM for faster data loading.\n",
    "- **`--ckpt`**: Path to a checkpoint file for fine-tuning, e.g., `/workspace/shared/YOLOX_outputs/yolox_pretrained.pth`.\n",
    "- **`--resume`**: Resume training from a specific checkpoint.\n",
    "- **`--start_epoch`**: Specify the starting epoch when resuming training.\n",
    "- **`-expn <experiment_name>`**: Specifies the experiment name. This will be used to create a subdirectory in `output_dir` for storing results. For example, `-expn \"yolox_nano_rusal_ppe\"` will create a folder named `yolox_nano_rusal_ppe` in the `output_dir`.\n",
    "\n",
    "### Positional Parameters (at the end of the command)\n",
    "- **`max_epoch`**: Total number of training epochs (e.g., `300`).\n",
    "- **`print_interval`**: Frequency of logging progress (e.g., every `50` iterations).\n",
    "- **`eval_interval`**: Frequency of evaluation during training (e.g., every `30` epochs).\n",
    "- **`output_dir`**: Path to save training results. Recommended path: `/workspace/shared/YOLOX_outputs` for compatibility with Windows (`C:\\shared`)."
   ]
  },
  {
   "cell_type": "code",
   "execution_count": null,
   "metadata": {
    "vscode": {
     "languageId": "plaintext"
    }
   },
   "outputs": [],
   "source": [
    "!python3 -m yolox.tools.train -expn \"yolox_nano_rusal_ppe\" -n yolox-nano -d 1 -b 64 --fp16 -o --cache ram max_epoch 300 print_interval 50 eval_interval 30 "
   ]
  }
 ],
 "metadata": {
  "language_info": {
   "name": "python"
  }
 },
 "nbformat": 4,
 "nbformat_minor": 2
}
