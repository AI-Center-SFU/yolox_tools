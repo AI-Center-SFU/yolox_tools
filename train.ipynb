{
 "cells": [
  {
   "cell_type": "code",
   "execution_count": null,
   "metadata": {
    "vscode": {
     "languageId": "plaintext"
    }
   },
   "outputs": [],
   "source": [
    "# Укажите путь к вашему датасету\n",
    "dataset_path = \"/path/to/your/COCO\"  # Измените на ваш путь"
   ]
  },
  {
   "cell_type": "markdown",
   "metadata": {},
   "source": [
    "import os\n",
    "import subprocess\n",
    "\n",
    "if not os.path.exists(dataset_path):\n",
    "    raise ValueError(f\"Dataset path does not exist: {dataset_path}\")\n",
    "\n",
    "coco_symlink = \"./datasets/COCO\"\n",
    "\n",
    "if os.path.islink(coco_symlink):\n",
    "    os.unlink(coco_symlink)  # Удалить символическую ссылку\n",
    "    print(f\"Removed symbolic link: {coco_symlink}\")\n",
    "elif os.path.exists(coco_symlink):\n",
    "    os.rmdir(coco_symlink)  # Удалить директорию, если это не символическая ссылка\n",
    "    print(f\"Removed directory: {coco_symlink}\")\n",
    "\n",
    "# Создаем новую символическую ссылку\n",
    "os.symlink(dataset_path, coco_symlink)\n",
    "print(f\"Created symbolic link: {coco_symlink} -> {dataset_path}\")"
   ]
  }
 ],
 "metadata": {
  "language_info": {
   "name": "python"
  }
 },
 "nbformat": 4,
 "nbformat_minor": 2
}
