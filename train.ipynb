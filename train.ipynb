{
 "cells": [
  {
   "cell_type": "code",
   "execution_count": null,
   "metadata": {
    "vscode": {
     "languageId": "plaintext"
    }
   },
   "outputs": [],
   "source": [
    "import os\n",
    "import zipfile\n",
    "\n",
    "def process_zip_and_create_symlink(zip_path):\n",
    "    if not os.path.exists(zip_path):\n",
    "        raise ValueError(f\"Zip file does not exist: {zip_path}\")\n",
    "\n",
    "    if not zipfile.is_zipfile(zip_path):\n",
    "        raise ValueError(f\"Provided file is not a valid zip archive: {zip_path}\")\n",
    "\n",
    "    # Получение пути для распаковки\n",
    "    extract_dir = os.path.join(os.getcwd(), os.path.basename(zip_path)[:-4])  # Убираем .zip из имени файла\n",
    "\n",
    "    if not os.path.exists(extract_dir):\n",
    "        os.makedirs(extract_dir)\n",
    "        print(f\"Created directory for extraction: {extract_dir}\")\n",
    "\n",
    "    # Распаковываем архив\n",
    "    with zipfile.ZipFile(zip_path, 'r') as zip_ref:\n",
    "        zip_ref.extractall(extract_dir)\n",
    "        print(f\"Extracted zip file into: {extract_dir}\")\n",
    "\n",
    "    # Автоматически ищем структуру COCO внутри распакованной директории\n",
    "    def find_coco_structure(base_dir):\n",
    "        for root, dirs, files in os.walk(base_dir):\n",
    "            if \"annotations\" in dirs and \"train2017\" in dirs and \"val2017\" in dirs:\n",
    "                return root\n",
    "        return None\n",
    "\n",
    "    coco_root = find_coco_structure(extract_dir)\n",
    "    if not coco_root:\n",
    "        raise ValueError(\"Extracted directory does not contain the expected COCO structure (annotations/, train2017/, val2017/).\")\n",
    "\n",
    "    print(f\"Found COCO structure at: {coco_root}\")\n",
    "\n",
    "    # Путь к символической ссылке\n",
    "    coco_symlink = \"./YOLOX/datasets/COCO\"\n",
    "\n",
    "    # Создаем путь к папке, если он не существует\n",
    "    coco_dir = os.path.dirname(coco_symlink)\n",
    "    if not os.path.exists(coco_dir):\n",
    "        os.makedirs(coco_dir)\n",
    "        print(f\"Created directory path: {coco_dir}\")\n",
    "\n",
    "    # Удаляем существующую символическую ссылку или директорию\n",
    "    if os.path.islink(coco_symlink):\n",
    "        os.unlink(coco_symlink)\n",
    "        print(f\"Removed symbolic link: {coco_symlink}\")\n",
    "    elif os.path.exists(coco_symlink):\n",
    "        os.rmdir(coco_symlink)\n",
    "        print(f\"Removed directory: {coco_symlink}\")\n",
    "\n",
    "    # Создаем новую символическую ссылку\n",
    "    os.symlink(coco_root, coco_symlink)\n",
    "    print(f\"Created symbolic link: {coco_symlink} -> {coco_root}\")\n",
    "\n",
    "# Пример использования\n",
    "zip_file_path = \"coco_ppe.zip\"  # Замените на путь к вашему zip файлу\n",
    "process_zip_and_create_symlink(zip_file_path)\n"
   ]
  },
  {
   "cell_type": "code",
   "execution_count": null,
   "metadata": {
    "vscode": {
     "languageId": "plaintext"
    }
   },
   "outputs": [],
   "source": [
    "!python3 -m yolox.tools.train -expn \"yolox_nano_rusal_ppe\" -n yolox-nano -d 1 -b 64 --fp16 -o --cache ram max_epoch 300 print_interval 50 eval_interval 30 "
   ]
  }
 ],
 "metadata": {
  "language_info": {
   "name": "python"
  }
 },
 "nbformat": 4,
 "nbformat_minor": 2
}
