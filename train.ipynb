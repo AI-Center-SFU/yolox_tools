{
 "cells": [
  {
   "cell_type": "markdown",
   "metadata": {},
   "source": [
    "### Parameters for YOLOX Training Command\n",
    "\n",
    "- **`-n <model>`**: Model name, e.g., `yolox-nano`, `yolox-s`, etc. YOLOX supports various models:\n",
    "  - `yolox-nano`\n",
    "  - `yolox-tiny`\n",
    "  - `yolox-s`\n",
    "  - `yolox-m`\n",
    "  - `yolox-l`\n",
    "  - `yolox-x`\n",
    "- **`-d`**: Number of GPUs to use (e.g., `1` for a single GPU).\n",
    "- **`-b`**: Batch size. Adjust based on available GPU memory.\n",
    "- **`--fp16`**: Enables mixed-precision training.\n",
    "- **`--cache ram`**: Caches the dataset in RAM for faster data loading.\n",
    "- **`--ckpt`**: Path to a checkpoint file for fine-tuning, e.g., `/workspace/shared/YOLOX_outputs/yolox_pretrained.pth`.\n",
    "- **`--resume`**: Resume training from a specific checkpoint.\n",
    "- **`--start_epoch`**: Specify the starting epoch when resuming training.\n",
    "\n",
    "### Positional Parameters (at the end of the command)\n",
    "- **`max_epoch`**: Total number of training epochs (e.g., `300`).\n",
    "- **`print_interval`**: Frequency of logging progress (e.g., every `50` iterations).\n",
    "- **`eval_interval`**: Frequency of evaluation during training (e.g., every `30` epochs).\n",
    "- **`output_dir`**: Path to save training results. Recommended path: `/workspace/shared/YOLOX_outputs` for compatibility with Windows (`C:\\shared`).\n",
    "- **`data_dir`**: Path to the dataset directory, e.g., `shared/your-dataset`.\n",
    "- **`num_classes`**: Number of object classes to detect. For a single class, set this to `1`.\n"
   ]
  },
  {
   "cell_type": "code",
   "execution_count": null,
   "metadata": {
    "vscode": {
     "languageId": "plaintext"
    }
   },
   "outputs": [],
   "source": [
    "!python3 -m yolox.tools.train -expn \"yolox_nano\" -n yolox-nano -d 1 -b 64 --fp16 -o --cache ram max_epoch 300 print_interval 50 eval_interval 30 data_dir \"shared/your-dataset\" num_classes 1"
   ]
  }
 ],
 "metadata": {
  "language_info": {
   "name": "python"
  }
 },
 "nbformat": 4,
 "nbformat_minor": 2
}
